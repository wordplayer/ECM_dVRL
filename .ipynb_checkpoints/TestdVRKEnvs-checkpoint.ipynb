{
 "cells": [
  {
   "cell_type": "code",
   "execution_count": 1,
   "metadata": {},
   "outputs": [],
   "source": [
    "import random\n",
    "import numpy as np\n",
    "from ECMEnv_model import ECMEnv"
   ]
  },
  {
   "cell_type": "code",
   "execution_count": 2,
   "metadata": {},
   "outputs": [],
   "source": [
    "ecm_env = ECMEnv(1, 4, 4, 2, 100, False, '/home/arclab-flo/Desktop/Bose/CoppeliaSim_Edu_V4_0_0_Ubuntu18_04/scenes/single_arm_one_marker (copy).ttt')"
   ]
  },
  {
   "cell_type": "code",
   "execution_count": 3,
   "metadata": {},
   "outputs": [
    {
     "data": {
      "text/plain": [
       "array([0.       , 0.2617994, 0.       , 0.       ])"
      ]
     },
     "execution_count": 3,
     "metadata": {},
     "output_type": "execute_result"
    }
   ],
   "source": [
    "ecm_env.ecm.getJointAngles()"
   ]
  },
  {
   "cell_type": "code",
   "execution_count": 4,
   "metadata": {},
   "outputs": [
    {
     "data": {
      "text/plain": [
       "array([ 0.69865036, -0.501537  , -0.32246038, -0.50805753], dtype=float32)"
      ]
     },
     "execution_count": 4,
     "metadata": {},
     "output_type": "execute_result"
    }
   ],
   "source": [
    "ecm_env.action_space.sample()"
   ]
  },
  {
   "cell_type": "code",
   "execution_count": 5,
   "metadata": {},
   "outputs": [],
   "source": [
    "Q = {}\n",
    "bounds = ecm_env.bounds"
   ]
  },
  {
   "cell_type": "code",
   "execution_count": 6,
   "metadata": {},
   "outputs": [
    {
     "data": {
      "text/plain": [
       "[[-75, 45], [-45, 65], [0, 0.235], [-90, 90]]"
      ]
     },
     "execution_count": 6,
     "metadata": {},
     "output_type": "execute_result"
    }
   ],
   "source": [
    "bounds"
   ]
  },
  {
   "cell_type": "code",
   "execution_count": 37,
   "metadata": {},
   "outputs": [],
   "source": [
    "states_1 = [np.radians(angle) for angle in np.linspace(bounds[0][0], bounds[0][1], 10)]\n",
    "states_2 = [np.radians(angle) for angle in np.linspace(bounds[1][0], bounds[1][1], 10)]\n",
    "states_3 = [angle for angle in np.linspace(bounds[2][0], bounds[2][1], 10)]\n",
    "states_4 = [np.radians(angle) for angle in np.linspace(bounds[3][0], bounds[3][1], 10)]"
   ]
  },
  {
   "cell_type": "code",
   "execution_count": 24,
   "metadata": {},
   "outputs": [],
   "source": [
    "states = [list([s1, s2, s3, s4]) for s1 in states_1 for s2 in states_2 for s3 in states_3 for s4 in states_4]"
   ]
  },
  {
   "cell_type": "code",
   "execution_count": 25,
   "metadata": {},
   "outputs": [],
   "source": [
    "action_1 = [value for value in np.linspace(-1., 1., 10)]\n",
    "action_2 = [value for value in np.linspace(-1., 1., 10)]\n",
    "action_3 = [value for value in np.linspace(-1., 1., 10)]\n",
    "action_4 = [value for value in np.linspace(-1., 1., 10)]"
   ]
  },
  {
   "cell_type": "code",
   "execution_count": 26,
   "metadata": {},
   "outputs": [],
   "source": [
    "actions = [list([a1, a2, a3, a4]) for a1 in action_1 for a2 in action_2 for a3 in action_3 for a4 in action_4]"
   ]
  },
  {
   "cell_type": "code",
   "execution_count": 28,
   "metadata": {},
   "outputs": [],
   "source": [
    "#Initializing the Q-table\n",
    "Q = np.zeros((len(states), len(actions)))"
   ]
  },
  {
   "cell_type": "code",
   "execution_count": 38,
   "metadata": {},
   "outputs": [
    {
     "data": {
      "text/plain": [
       "[-1.3089969389957472,\n",
       " -1.2662541818040494,\n",
       " -1.2235114246123515,\n",
       " -1.1807686674206535,\n",
       " -1.1380259102289556,\n",
       " -1.0952831530372578,\n",
       " -1.05254039584556,\n",
       " -1.009797638653862,\n",
       " -0.9670548814621642,\n",
       " -0.9243121242704663,\n",
       " -0.8815693670787684,\n",
       " -0.8388266098870706,\n",
       " -0.7960838526953729,\n",
       " -0.7533410955036749,\n",
       " -0.710598338311977,\n",
       " -0.6678555811202791,\n",
       " -0.6251128239285813,\n",
       " -0.5823700667368834,\n",
       " -0.5396273095451856,\n",
       " -0.4968845523534877,\n",
       " -0.45414179516178976,\n",
       " -0.4113990379700919,\n",
       " -0.36865628077839413,\n",
       " -0.3259135235866962,\n",
       " -0.28317076639499833,\n",
       " -0.2404280092033005,\n",
       " -0.19768525201160259,\n",
       " -0.15494249481990477,\n",
       " -0.11219973762820694,\n",
       " -0.06945698043650911,\n",
       " -0.026714223244811045,\n",
       " 0.016028533946886775,\n",
       " 0.0587712911385846,\n",
       " 0.10151404833028242,\n",
       " 0.14425680552198022,\n",
       " 0.18699956271367832,\n",
       " 0.22974231990537614,\n",
       " 0.2724850770970739,\n",
       " 0.31522783428877177,\n",
       " 0.3579705914804696,\n",
       " 0.4007133486721677,\n",
       " 0.44345610586386547,\n",
       " 0.4861988630555633,\n",
       " 0.5289416202472611,\n",
       " 0.571684377438959,\n",
       " 0.6144271346306568,\n",
       " 0.6571698918223549,\n",
       " 0.6999126490140527,\n",
       " 0.7426554062057504,\n",
       " 0.7853981633974483]"
      ]
     },
     "execution_count": 38,
     "metadata": {},
     "output_type": "execute_result"
    }
   ],
   "source": [
    "states_1"
   ]
  },
  {
   "cell_type": "code",
   "execution_count": 29,
   "metadata": {},
   "outputs": [
    {
     "data": {
      "text/plain": [
       "(10000, 10000)"
      ]
     },
     "execution_count": 29,
     "metadata": {},
     "output_type": "execute_result"
    }
   ],
   "source": [
    "Q.shape"
   ]
  },
  {
   "cell_type": "code",
   "execution_count": 31,
   "metadata": {},
   "outputs": [],
   "source": [
    "states = np.array(states)"
   ]
  },
  {
   "cell_type": "code",
   "execution_count": 7,
   "metadata": {},
   "outputs": [],
   "source": [
    "#Setting the hyperparameters\n",
    "learning_rate = 0.7\n",
    "discount_factor = 0.618\n",
    "epsilon = 1\n",
    "max_epsilon = 0.01\n",
    "decay = 0.01\n",
    "\n",
    "train_episodes = 2000\n",
    "test_episodes = 100\n",
    "max_steps = 100"
   ]
  },
  {
   "cell_type": "code",
   "execution_count": null,
   "metadata": {},
   "outputs": [],
   "source": [
    "#Training the agent\n",
    "\n",
    "#Creating lists to keep track of reward and epsilon values\n",
    "training_rewards = []\n",
    "epsilons = []\n",
    "\n",
    "for episode in range(train_episodes):\n",
    "    #Resetting the environment each time as per requirement\n",
    "    state = env.reset()\n",
    "    #Starting the tracker for the rewards\n",
    "    total_training_rewards = 0\n",
    "    \n",
    "    for step in range(max_steps):\n",
    "        #Choosing an action given the states are based on a random number\n",
    "        exp_exp_tradeoff = random.uniform(0, 1)\n",
    "        \n",
    "        #First option for choosing the random action: Explore\n",
    "        if exp_exp_tradeoff < epsilon:\n",
    "            action = ecm_env.action_space.sample()\n",
    "        else:\n",
    "            action = np.zeros(ecm_env.action_space.shape[0])\n",
    "            action[0] = np.argmax(Q[])"
   ]
  },
  {
   "cell_type": "code",
   "execution_count": 5,
   "metadata": {},
   "outputs": [],
   "source": [
    "ecm_env.close()"
   ]
  },
  {
   "cell_type": "code",
   "execution_count": 86,
   "metadata": {},
   "outputs": [],
   "source": [
    "init_state = ecm_env.reset()"
   ]
  },
  {
   "cell_type": "code",
   "execution_count": 89,
   "metadata": {},
   "outputs": [],
   "source": [
    "init_s_1 = init_state['observation'][0]"
   ]
  },
  {
   "cell_type": "code",
   "execution_count": 92,
   "metadata": {},
   "outputs": [
    {
     "data": {
      "text/plain": [
       "(array([], dtype=int64),)"
      ]
     },
     "execution_count": 92,
     "metadata": {},
     "output_type": "execute_result"
    }
   ],
   "source": [
    "np.where(states[:120] == init_s_1)"
   ]
  },
  {
   "cell_type": "code",
   "execution_count": 101,
   "metadata": {},
   "outputs": [
    {
     "data": {
      "text/plain": [
       "array([-1.30899694, -1.29139698, -1.27379702, -1.25619706, -1.2385971 ,\n",
       "       -1.22099714, -1.20339719, -1.18579723, -1.16819727, -1.15059731,\n",
       "       -1.13299735, -1.11539739, -1.09779743, -1.08019747, -1.06259752,\n",
       "       -1.04499756, -1.0273976 , -1.00979764, -0.99219768, -0.97459772,\n",
       "       -0.95699776, -0.9393978 , -0.92179784, -0.90419789, -0.88659793,\n",
       "       -0.86899797, -0.85139801, -0.83379805, -0.81619809, -0.79859813,\n",
       "       -0.78099817, -0.76339821, -0.74579826, -0.7281983 , -0.71059834,\n",
       "       -0.69299838, -0.67539842, -0.65779846, -0.6401985 , -0.62259854,\n",
       "       -0.60499859, -0.58739863, -0.56979867, -0.55219871, -0.53459875,\n",
       "       -0.51699879, -0.49939883, -0.48179887, -0.46419891, -0.44659896,\n",
       "       -0.428999  , -0.41139904, -0.39379908, -0.37619912, -0.35859916,\n",
       "       -0.3409992 , -0.32339924, -0.30579928, -0.28819933, -0.27059937,\n",
       "       -0.25299941, -0.23539945, -0.21779949, -0.20019953, -0.18259957,\n",
       "       -0.16499961, -0.14739966, -0.1297997 , -0.11219974, -0.09459978,\n",
       "       -0.07699982, -0.05939986, -0.0417999 , -0.02419994, -0.00659998,\n",
       "        0.01099997,  0.02859993,  0.04619989,  0.06379985,  0.08139981,\n",
       "        0.09899977,  0.11659973,  0.13419969,  0.15179965,  0.1693996 ,\n",
       "        0.18699956,  0.20459952,  0.22219948,  0.23979944,  0.2573994 ,\n",
       "        0.27499936,  0.29259932,  0.31019927,  0.32779923,  0.34539919,\n",
       "        0.36299915,  0.38059911,  0.39819907,  0.41579903,  0.43339899,\n",
       "        0.45099895,  0.4685989 ,  0.48619886,  0.50379882,  0.52139878,\n",
       "        0.53899874,  0.5565987 ,  0.57419866,  0.59179862,  0.60939857,\n",
       "        0.62699853,  0.64459849,  0.66219845,  0.67979841,  0.69739837,\n",
       "        0.71499833,  0.73259829,  0.75019825,  0.7677982 ,  0.78539816])"
      ]
     },
     "execution_count": 101,
     "metadata": {},
     "output_type": "execute_result"
    }
   ],
   "source": [
    "states[:120]"
   ]
  },
  {
   "cell_type": "code",
   "execution_count": 2,
   "metadata": {},
   "outputs": [],
   "source": [
    "states = [item for item in np.linspace(1, 3, 3)]"
   ]
  },
  {
   "cell_type": "code",
   "execution_count": 3,
   "metadata": {},
   "outputs": [
    {
     "data": {
      "text/plain": [
       "[1.0, 2.0, 3.0]"
      ]
     },
     "execution_count": 3,
     "metadata": {},
     "output_type": "execute_result"
    }
   ],
   "source": [
    "states"
   ]
  },
  {
   "cell_type": "code",
   "execution_count": 4,
   "metadata": {},
   "outputs": [],
   "source": [
    "import itertools"
   ]
  },
  {
   "cell_type": "code",
   "execution_count": 5,
   "metadata": {},
   "outputs": [
    {
     "data": {
      "text/plain": [
       "6"
      ]
     },
     "execution_count": 5,
     "metadata": {},
     "output_type": "execute_result"
    }
   ],
   "source": [
    "len(list(itertools.permutations(states, 2)))"
   ]
  },
  {
   "cell_type": "code",
   "execution_count": 9,
   "metadata": {},
   "outputs": [],
   "source": [
    "list1 = [1, 2, 3]\n",
    "list2 = [4, 5, 6]\n",
    "list3 = [7, 8, 9]"
   ]
  },
  {
   "cell_type": "code",
   "execution_count": 15,
   "metadata": {},
   "outputs": [
    {
     "data": {
      "text/plain": [
       "[[(1, 4, 7), (2, 5, 8), (3, 6, 9)],\n",
       " [(1, 4, 7), (2, 5, 9), (3, 6, 8)],\n",
       " [(1, 4, 8), (2, 5, 7), (3, 6, 9)],\n",
       " [(1, 4, 8), (2, 5, 9), (3, 6, 7)],\n",
       " [(1, 4, 9), (2, 5, 7), (3, 6, 8)],\n",
       " [(1, 4, 9), (2, 5, 8), (3, 6, 7)],\n",
       " [(1, 4, 7), (2, 6, 8), (3, 5, 9)],\n",
       " [(1, 4, 7), (2, 6, 9), (3, 5, 8)],\n",
       " [(1, 4, 8), (2, 6, 7), (3, 5, 9)],\n",
       " [(1, 4, 8), (2, 6, 9), (3, 5, 7)],\n",
       " [(1, 4, 9), (2, 6, 7), (3, 5, 8)],\n",
       " [(1, 4, 9), (2, 6, 8), (3, 5, 7)],\n",
       " [(1, 5, 7), (2, 4, 8), (3, 6, 9)],\n",
       " [(1, 5, 7), (2, 4, 9), (3, 6, 8)],\n",
       " [(1, 5, 8), (2, 4, 7), (3, 6, 9)],\n",
       " [(1, 5, 8), (2, 4, 9), (3, 6, 7)],\n",
       " [(1, 5, 9), (2, 4, 7), (3, 6, 8)],\n",
       " [(1, 5, 9), (2, 4, 8), (3, 6, 7)],\n",
       " [(1, 5, 7), (2, 6, 8), (3, 4, 9)],\n",
       " [(1, 5, 7), (2, 6, 9), (3, 4, 8)],\n",
       " [(1, 5, 8), (2, 6, 7), (3, 4, 9)],\n",
       " [(1, 5, 8), (2, 6, 9), (3, 4, 7)],\n",
       " [(1, 5, 9), (2, 6, 7), (3, 4, 8)],\n",
       " [(1, 5, 9), (2, 6, 8), (3, 4, 7)],\n",
       " [(1, 6, 7), (2, 4, 8), (3, 5, 9)],\n",
       " [(1, 6, 7), (2, 4, 9), (3, 5, 8)],\n",
       " [(1, 6, 8), (2, 4, 7), (3, 5, 9)],\n",
       " [(1, 6, 8), (2, 4, 9), (3, 5, 7)],\n",
       " [(1, 6, 9), (2, 4, 7), (3, 5, 8)],\n",
       " [(1, 6, 9), (2, 4, 8), (3, 5, 7)],\n",
       " [(1, 6, 7), (2, 5, 8), (3, 4, 9)],\n",
       " [(1, 6, 7), (2, 5, 9), (3, 4, 8)],\n",
       " [(1, 6, 8), (2, 5, 7), (3, 4, 9)],\n",
       " [(1, 6, 8), (2, 5, 9), (3, 4, 7)],\n",
       " [(1, 6, 9), (2, 5, 7), (3, 4, 8)],\n",
       " [(1, 6, 9), (2, 5, 8), (3, 4, 7)]]"
      ]
     },
     "execution_count": 15,
     "metadata": {},
     "output_type": "execute_result"
    }
   ],
   "source": [
    "[list(zip(list1, p, q)) for p in itertools.permutations(list2) for q in itertools.permutations(list3)]"
   ]
  },
  {
   "cell_type": "code",
   "execution_count": null,
   "metadata": {},
   "outputs": [],
   "source": []
  }
 ],
 "metadata": {
  "kernelspec": {
   "display_name": "Python 3",
   "language": "python",
   "name": "python3"
  },
  "language_info": {
   "codemirror_mode": {
    "name": "ipython",
    "version": 3
   },
   "file_extension": ".py",
   "mimetype": "text/x-python",
   "name": "python",
   "nbconvert_exporter": "python",
   "pygments_lexer": "ipython3",
   "version": "3.7.4"
  }
 },
 "nbformat": 4,
 "nbformat_minor": 2
}
