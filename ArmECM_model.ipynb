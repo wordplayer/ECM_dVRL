{
 "cells": [
  {
   "cell_type": "code",
   "execution_count": 1,
   "metadata": {},
   "outputs": [],
   "source": [
    "from pyrep.pyrep import PyRep\n",
    "from pyrep.objects.joint import Joint\n",
    "from pyrep.objects.shape import Shape\n",
    "from pyrep.objects.vision_sensor import VisionSensor\n",
    "import numpy as np"
   ]
  },
  {
   "cell_type": "code",
   "execution_count": 2,
   "metadata": {},
   "outputs": [],
   "source": [
    "class ArmECM(PyRep):\n",
    "    def __init__(self):\n",
    "        \n",
    "        #super(ArmECM, self).__init__(scenePath)\n",
    "        \"\"\"self.pr = PyRep()\n",
    "        self.pr.launch(scenePath)\n",
    "        self.pr.start()\n",
    "        self.pr.step()\"\"\"\n",
    "        \n",
    "        self.base_handle = Shape('L0_respondable_ECM')\n",
    "        self.j1_handle = Joint('J1_ECM')\n",
    "        self.j2_handle = Joint('J2_ECM')\n",
    "        self.j3_handle = Joint('J3_ECM')\n",
    "        self.j4_handle = Joint('J4_ECM')\n",
    "        \n",
    "        self.left_cam = VisionSensor('Vision_sensor_left')\n",
    "        self.right_cam = VisionSensor('Vision_sensor_right')\n",
    "        \n",
    "    def getJointAngles(self):\n",
    "        \n",
    "        pos1 = self.j1_handle.get_joint_position()\n",
    "        pos2 = self.j2_handle.get_joint_position()\n",
    "        pos3 = self.j3_handle.get_joint_position()\n",
    "        pos4 = self.j4_handle.get_joint_position()\n",
    "        return np.array([pos1, pos2, pos3, pos4])\n",
    "    \n",
    "    def setJointAngles(self, jointAngles):\n",
    "        \n",
    "        self.j1_handle.set_joint_position(jointAngles[0])\n",
    "        self.j2_handle.set_joint_position(jointAngles[1])\n",
    "        self.j3_handle.set_joint_position(jointAngles[2])\n",
    "        self.j4_handle.set_joint_position(jointAngles[3])\n",
    "        \n",
    "    def getCurrentPose(self):\n",
    "        \n",
    "        return self.left_cam.get_pose(relative_to = self.base_handle)\n",
    "    \n",
    "    def getStereoImagePairs(self):\n",
    "        return np.fliplr(self.left_cam.capture_rgb()), np.fliplr(self.right_cam.capture_rgb())\n",
    "    \n",
    "    \"\"\"def stopSim(self):\n",
    "        self.pr.stop()\n",
    "        self.pr.shutdown()\"\"\""
   ]
  },
  {
   "cell_type": "code",
   "execution_count": 3,
   "metadata": {},
   "outputs": [
    {
     "data": {
      "text/plain": [
       "'/home/arclab-flo/Desktop/Bose'"
      ]
     },
     "execution_count": 3,
     "metadata": {},
     "output_type": "execute_result"
    }
   ],
   "source": [
    "import os\n",
    "os.getcwd()"
   ]
  },
  {
   "cell_type": "code",
   "execution_count": 4,
   "metadata": {},
   "outputs": [],
   "source": [
    "ecm = ArmECM(os.getcwd()+'/CoppeliaSim_Edu_V4_0_0_Ubuntu18_04/scenes/single_arm.ttt')"
   ]
  },
  {
   "cell_type": "code",
   "execution_count": 6,
   "metadata": {},
   "outputs": [],
   "source": [
    "pose = ecm.getCurrentPose()\n",
    "pos, quat = pose[0:3], pose[3:]"
   ]
  },
  {
   "cell_type": "code",
   "execution_count": 7,
   "metadata": {},
   "outputs": [],
   "source": [
    "ecm.stopSim()"
   ]
  },
  {
   "cell_type": "code",
   "execution_count": null,
   "metadata": {},
   "outputs": [],
   "source": []
  }
 ],
 "metadata": {
  "kernelspec": {
   "display_name": "Python 3",
   "language": "python",
   "name": "python3"
  },
  "language_info": {
   "codemirror_mode": {
    "name": "ipython",
    "version": 3
   },
   "file_extension": ".py",
   "mimetype": "text/x-python",
   "name": "python",
   "nbconvert_exporter": "python",
   "pygments_lexer": "ipython3",
   "version": "3.7.4"
  }
 },
 "nbformat": 4,
 "nbformat_minor": 2
}
