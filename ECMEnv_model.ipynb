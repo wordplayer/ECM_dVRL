{
 "cells": [
  {
   "cell_type": "code",
   "execution_count": 1,
   "metadata": {},
   "outputs": [],
   "source": [
    "import gym\n",
    "import cv2\n",
    "from gym import error, spaces\n",
    "from gym.utils import seeding\n",
    "\n",
    "import numpy as np\n",
    "import matplotlib.pyplot as plt\n",
    " \n",
    "from pyrep.pyrep import PyRep\n",
    "from ArmPSM_model import ArmPSM\n",
    "from ArmECM_model import ArmECM"
   ]
  },
  {
   "cell_type": "markdown",
   "metadata": {},
   "source": [
    "If error found, put 'pyglet>=1.4.0,<=1.5.0'in install_requires in the setup.py file of gym"
   ]
  },
  {
   "cell_type": "code",
   "execution_count": 2,
   "metadata": {},
   "outputs": [],
   "source": [
    "class ECMEnv(gym.GoalEnv):\n",
    "    def __init__(self, psm_num, n_actions, n_states, n_goals, n_substeps, camera_enabled, scene_path):\n",
    "        \n",
    "        self.viewer = None\n",
    "        \n",
    "        self.pr = PyRep()\n",
    "        self.pr.launch(scene_path)\n",
    "        \n",
    "        self.psm_num = psm_num\n",
    "        self.psm = ArmPSM(self.pr, self.psm_num)\n",
    "        self.ecm = ArmECM(self.pr)\n",
    "        \n",
    "        self.n_substeps = n_substeps\n",
    "        \n",
    "        self.sim_timestep = 0.1\n",
    "        \n",
    "        self.camera_enabled = camera_enabled\n",
    "        if self.camera_enabled:\n",
    "            self.metadata = {'render.modes': ['matplotlib', 'rgb', 'human']}\n",
    "            self.camera = camera(self.pr, rgb = True)\n",
    "        else:\n",
    "            self.metadata = {'render.modes': ['human']}\n",
    "            \n",
    "        self.seed()\n",
    "        self._env_setup()\n",
    "        self.done = False\n",
    "        \n",
    "        self.action_space = spaces.Box(-1., 1., shape=(n_actions,), dtype='float32')\n",
    "        self.observation_space = spaces.Dict(dict(\n",
    "\t\t\tdesired_goal=spaces.Box(-np.inf, np.inf, shape=(n_goals,), dtype='float32'),\n",
    "\t\t\tachieved_goal=spaces.Box(-np.inf, np.inf, shape=(n_goals,), dtype='float32'),\n",
    "\t\t\tobservation=spaces.Box(-np.inf, np.inf, shape=(n_states,), dtype='float32'),\n",
    "\t\t\t))\n",
    "        self.pr.start()\n",
    "    \n",
    "    def __del__(self):\n",
    "        self.close()\n",
    "        \n",
    "    def dt(self):\n",
    "        return self.sim_timestep * self.n_substeps\n",
    "    \n",
    "    def seed(self, seed = None):\n",
    "        self.np_random, seed = seeding.np_random(seed)\n",
    "        return [seed]\n",
    "    \n",
    "    def step(self, action):\n",
    "        if not self.done:\n",
    "            action = np.clip(action, self.action_space.low, self.action_space.high)\n",
    "            self._set_action(action)\n",
    "\n",
    "            self._simulator_step()\n",
    "            self._step_callback()\n",
    "        \n",
    "        obs = self._get_obs()\n",
    "        \n",
    "        self.done = False\n",
    "        reward = 0\n",
    "        info = {}\n",
    "        \n",
    "        return obs, reward, done, info\n",
    "    \n",
    "    def get_centroid(self):\n",
    "        left_image, right_image = self.ecm.getStereoImagePairs()\n",
    "        left_image = cv2.cvtColor(left_image, cv2.COLOR_RGB2HSV)\n",
    "        right_image = cv2.cvtColor(right_image, cv2.COLOR_RGB2HSV)\n",
    "        \n",
    "        h, s, v = cv2.split(left_image)\n",
    "        ret, thresh_img = cv2.threshold(v,  127, 255, cv2.THRESH_BINARY)\n",
    "        M = cv2.moments(thresh_img)\n",
    "        if not M[\"m00\"]:\n",
    "            c_x = M[\"m10\"]\n",
    "            c_y = M[\"m01\"]\n",
    "        else:\n",
    "            c_x = int(M[\"m10\"]/M[\"m00\"])\n",
    "            c_y = int(M[\"m01\"]/M[\"m00\"])\n",
    "        return [c_x, c_y]\n",
    "        \n",
    "    def close(self):\n",
    "        if self.viewer is not None:\n",
    "            plt.close(self.viewer.number)\n",
    "            self.viewer = None\n",
    "        self.pr.stop()\n",
    "        self.pr.shutdown()\n",
    "    \n",
    "    def _simulator_step(self):\n",
    "        for i in range(0, self.n_substeps):\n",
    "            self.pr.step()\n",
    "\n",
    "    def _reset_sim(self):\n",
    "        \"\"\"Resets the simulation and random initialization\n",
    "        \"\"\"\n",
    "        return True\n",
    "\n",
    "    def _get_obs(self):\n",
    "        \"\"\"Returns the observation.\n",
    "        \"\"\"\n",
    "        obs = {'observation' : np.append(np.r_[self.psm1.getPoseAtEE()] - self.ecm.getCurrentPose(), \n",
    "                                         self.ecm.getJointAngles()),\n",
    "              'achieved_goal': np.array([0., 0., 0.]),\n",
    "              'desired_goal' : np.array([0., 0., 0.])}\n",
    "        return obs\n",
    "\n",
    "    def _set_action(self, action):\n",
    "        \"\"\"Applies the given action to the simulation.\n",
    "        \"\"\"\n",
    "        obs = self._get_obs()\n",
    "        self.ecm.setJointAngles(obs[-4:] + action)\n",
    "\n",
    "    def _is_success(self):\n",
    "        \"\"\"Indicates whether or not the needle is passed optimally.\n",
    "        \"\"\"\n",
    "        raise NotImplementedError()\n",
    "\n",
    "    def _interaction_reward(self, achieved_goal, goal): \n",
    "        \"\"\"Returns the reward based on the interaction result in the simulator\n",
    "        \"\"\"\n",
    "        raise NotImplementedError()\n",
    "\n",
    "    def _env_setup(self):\n",
    "        \n",
    "        self.psm.setJointAngles(np.array([0.,np.radians(-50.0), 0.08, 0., 0., 0.]), np.radians(20.0))\n",
    "        self.psm.setDynamicsMode(1)\n",
    "        self.psm.setIkMode(0)\n",
    "        self.pr.step()\n",
    "        \n",
    "    def _viewer_setup(self):\n",
    "        \"\"\"Initial configuration of the viewer. Can be used to set the camera position,\n",
    "        for example.\n",
    "        \"\"\"\n",
    "        pass\n",
    "\n",
    "    def _render_callback(self):\n",
    "        \"\"\"A custom callback that is called before rendering. Can be used\n",
    "        to implement custom visualizations.\n",
    "        \"\"\"\n",
    "        pass\n",
    "\n",
    "    def _step_callback(self):\n",
    "        \"\"\"A custom callback that is called after stepping the simulation. Can be used\n",
    "        to enforce additional constraints on the simulation state.\n",
    "        \"\"\"\n",
    "        pass\n"
   ]
  },
  {
   "cell_type": "code",
   "execution_count": 3,
   "metadata": {},
   "outputs": [],
   "source": [
    "obj = ECMEnv(1, 6, 10, 2, 100, False, '/home/arclab-flo/Desktop/Bose/CoppeliaSim_Edu_V4_0_0_Ubuntu18_04/scenes/single_arm_one_marker (copy).ttt')"
   ]
  },
  {
   "cell_type": "code",
   "execution_count": 4,
   "metadata": {},
   "outputs": [],
   "source": [
    "import time"
   ]
  },
  {
   "cell_type": "code",
   "execution_count": 5,
   "metadata": {},
   "outputs": [
    {
     "name": "stdout",
     "output_type": "stream",
     "text": [
      "[0.0, 0.0]\n",
      "[0.0, 0.0]\n",
      "[0.0, 0.0]\n",
      "[0.0, 0.0]\n",
      "[0.0, 0.0]\n",
      "[0.0, 0.0]\n",
      "[0.0, 0.0]\n",
      "[0.0, 0.0]\n",
      "[0.0, 0.0]\n"
     ]
    }
   ],
   "source": [
    "ecm_joint1_angles = np.arange(-75., -30., 5.)\n",
    "for j1 in ecm_joint1_angles:\n",
    "    jointAngles = obj.ecm.getJointAngles()\n",
    "    jointAngles[0] = np.radians(j1)\n",
    "    #jointAngles[2] = j1\n",
    "    obj.ecm.setJointAngles(jointAngles)\n",
    "    obj.pr.step()\n",
    "    \n",
    "    print (obj.get_centroid())\n",
    "    time.sleep(1.0)"
   ]
  },
  {
   "cell_type": "markdown",
   "metadata": {},
   "source": [
    "V-rep get tool in the camera frame, set position (pick and save proper initialization)\n",
    "ECM\n",
    "Joint 1: (-75, 45) @ 0\n",
    "Joint 21: @ 15\n",
    "Joint 22: @ -15\n",
    "Joint 23: @ 15\n",
    "Joint 2: (-45, 65) @ 15\n",
    "Joint 3: (0, 0.235 m) @ 0\n",
    "Joint 4: (-90, 90) @ 0"
   ]
  },
  {
   "cell_type": "code",
   "execution_count": 6,
   "metadata": {},
   "outputs": [],
   "source": [
    "from mpl_toolkits.mplot3d import Axes3D\n",
    "from matplotlib import cm\n",
    "from matplotlib import colors"
   ]
  },
  {
   "cell_type": "code",
   "execution_count": 33,
   "metadata": {},
   "outputs": [
    {
     "data": {
      "image/png": "[encoded data removed]",
      "text/plain": [
       "<Figure size 432x288 with 1 Axes>"
      ]
     },
     "metadata": {
      "needs_background": "light"
     },
     "output_type": "display_data"
    }
   ],
   "source": [
    "li, ri = obj.ecm.getStereoImagePairs()\n",
    "hsv_image = cv2.cvtColor(li, cv2.COLOR_RGB2HSV)\n",
    "h, s, v = cv2.split(hsv_image)\n",
    "fig = plt.figure()\n",
    "axis = fig.add_subplot(1, 1, 1, projection = \"3d\")\n",
    "pixel_colors = li.reshape((li.shape[0] * li.shape[1], 3))\n",
    "norm = colors.Normalize(vmin = -1., vmax = 1.)\n",
    "norm.autoscale(pixel_colors)\n",
    "pixel_colors = norm(pixel_colors).tolist()\n",
    "axis.scatter(h.flatten(), s.flatten(), v.flatten(), facecolors = pixel_colors, marker = \".\")\n",
    "axis.set_xlabel('Hue')\n",
    "axis.set_ylabel('Saturation')\n",
    "axis.set_zlabel('Value')\n",
    "plt.show()"
   ]
  },
  {
   "cell_type": "code",
   "execution_count": 47,
   "metadata": {},
   "outputs": [
    {
     "data": {
      "image/png": "[encoded data removed]",
      "text/plain": [
       "<Figure size 432x288 with 2 Axes>"
      ]
     },
     "metadata": {
      "needs_background": "light"
     },
     "output_type": "display_data"
    }
   ],
   "source": [
    "lower_limit = (51, 51, 0)\n",
    "higher_limit = (255, 255, 204)\n",
    "b_square = np.full((10, 10, 3), np.array(lower_limit), dtype = np.uint8)/255.0\n",
    "db_square = np.full((10, 10, 3), np.array(higher_limit), dtype = np.uint8)/255.0\n",
    "plt.subplot(1, 2, 1)\n",
    "plt.imshow(db_square)\n",
    "plt.subplot(1, 2, 2)\n",
    "plt.imshow(b_square)\n",
    "plt.show()"
   ]
  },
  {
   "cell_type": "code",
   "execution_count": 48,
   "metadata": {},
   "outputs": [
    {
     "name": "stderr",
     "output_type": "stream",
     "text": [
      "Clipping input data to the valid range for imshow with RGB data ([0..1] for floats or [0..255] for integers).\n"
     ]
    },
    {
     "data": {
      "text/plain": [
       "<matplotlib.image.AxesImage at 0x7fcbf6c88dd0>"
      ]
     },
     "execution_count": 48,
     "metadata": {},
     "output_type": "execute_result"
    },
    {
     "data": {
      "image/png": "[encoded data removed]",
      "text/plain": [
       "<Figure size 432x288 with 1 Axes>"
      ]
     },
     "metadata": {
      "needs_background": "light"
     },
     "output_type": "display_data"
    }
   ],
   "source": [
    "plt.imshow(hsv_image)"
   ]
  },
  {
   "cell_type": "code",
   "execution_count": 50,
   "metadata": {},
   "outputs": [],
   "source": [
    "mask = cv2.inRange(hsv_image, lower_limit, higher_limit)\n",
    "#To impose the mask on the original image\n",
    "result = cv2.bitwise_and(li, li, mask = mask)"
   ]
  },
  {
   "cell_type": "code",
   "execution_count": 51,
   "metadata": {},
   "outputs": [
    {
     "name": "stderr",
     "output_type": "stream",
     "text": [
      "Clipping input data to the valid range for imshow with RGB data ([0..1] for floats or [0..255] for integers).\n"
     ]
    },
    {
     "data": {
      "image/png": "[encoded data removed]",
      "text/plain": [
       "<Figure size 432x288 with 3 Axes>"
      ]
     },
     "metadata": {
      "needs_background": "light"
     },
     "output_type": "display_data"
    }
   ],
   "source": [
    "plt.subplot(1, 3, 1)\n",
    "plt.imshow(mask, cmap = \"gray\")\n",
    "plt.subplot(1, 3, 2)\n",
    "plt.imshow(result)\n",
    "plt.subplot(1, 3, 3)\n",
    "plt.imshow(hsv_image)\n",
    "plt.show()"
   ]
  },
  {
   "cell_type": "code",
   "execution_count": 37,
   "metadata": {},
   "outputs": [
    {
     "data": {
      "text/plain": [
       "0"
      ]
     },
     "execution_count": 37,
     "metadata": {},
     "output_type": "execute_result"
    }
   ],
   "source": [
    "np.count_nonzero(result)"
   ]
  },
  {
   "cell_type": "code",
   "execution_count": 8,
   "metadata": {},
   "outputs": [],
   "source": [
    "obj.close()"
   ]
  },
  {
   "cell_type": "code",
   "execution_count": null,
   "metadata": {},
   "outputs": [],
   "source": []
  }
 ],
 "metadata": {
  "kernelspec": {
   "display_name": "Python 3",
   "language": "python",
   "name": "python3"
  },
  "language_info": {
   "codemirror_mode": {
    "name": "ipython",
    "version": 3
   },
   "file_extension": ".py",
   "mimetype": "text/x-python",
   "name": "python",
   "nbconvert_exporter": "python",
   "pygments_lexer": "ipython3",
   "version": "3.7.4"
  }
 },
 "nbformat": 4,
 "nbformat_minor": 2
}
