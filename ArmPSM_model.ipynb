{
 "cells": [
  {
   "cell_type": "code",
   "execution_count": 1,
   "metadata": {},
   "outputs": [],
   "source": [
    "from pyrep.pyrep import PyRep\n",
    "from pyrep.objects.joint import Joint\n",
    "from pyrep.objects.shape import Shape\n",
    "from pyrep.objects.vision_sensor import VisionSensor\n",
    "from pyrep.objects.dummy import Dummy\n",
    "import numpy as np\n",
    "import transforms3d.quaternions as quaternions"
   ]
  },
  {
   "cell_type": "code",
   "execution_count": 2,
   "metadata": {},
   "outputs": [],
   "source": [
    "class ArmPSM(PyRep):\n",
    "    def __init__(self, armNumber = 1):\n",
    "        \"\"\"self.pr = PyRep()\n",
    "        self.pr.launch(scenePath)\n",
    "        self.pr.start()\n",
    "        self.pr.step()\"\"\"\n",
    "        \n",
    "        self.psm = armNumber\n",
    "        self.base_handle = Shape('RCM_PSM{}'.format(self.psm))\n",
    "        self.j1_handle   = Joint('J1_PSM{}'.format(self.psm))\n",
    "        self.j2_handle   = Joint('J2_PSM{}'.format(self.psm))\n",
    "        self.j3_handle   = Joint('J3_PSM{}'.format(self.psm))\n",
    "        self.j4_handle   = Joint('J1_TOOL{}'.format(self.psm))\n",
    "        self.j5_handle   = Joint('J2_TOOL{}'.format(self.psm))\n",
    "        self.j6d_handle  = Joint('J3_dx_TOOL{}'.format(self.psm))\n",
    "        self.j6s_handle  = Joint('J3_sx_TOOL{}'.format(self.psm))\n",
    "\n",
    "        self.j5_dummy_handle   = Dummy('J2_virtual_TOOL{}'.format(self.psm))\n",
    "\n",
    "        self.j6d_tip_dummy_handle   = Dummy('J3_dx_tip_TOOL{}'.format(self.psm))\n",
    "        self.j6s_tip_dummy_handle   = Dummy('J3_sx_tip_TOOL{}'.format(self.psm))\n",
    "\n",
    "        self.ik_target_dx_dummy_handle = Dummy('IK_target_dx_PSM{}'.format(self.psm))\n",
    "        self.ik_target_sx_dummy_handle = Dummy('IK_target_sx_PSM{}'.format(self.psm))\n",
    "        \n",
    "        self.EE_virtual_handle = Dummy('EE_virtual_TOOL{}'.format(self.psm))\n",
    "        \n",
    "    def posquat2Matrix(self, pos, quat):\n",
    "        T = np.eye(4)\n",
    "        T[0:3, 0:3] = quaternions.quat2mat([quat[-1], quat[0], quat[1], quat[2]])\n",
    "        T[0:3, 3] = pos\n",
    "\n",
    "        return np.array(T)\n",
    "\n",
    "    def matrix2posquat(self,T):\n",
    "        pos = T[0:3, 3]\n",
    "        quat = quaternions.mat2quat(T[0:3, 0:3])\n",
    "        quat = [quat[1], quat[2], quat[3], quat[0]]\n",
    "\n",
    "        return np.array(pos), np.array(quat)\n",
    "\n",
    "    def getJawAngle(self):\n",
    "        pos6d = self.j6d_handle.get_joint_position()\n",
    "        pos6s = self.j6s_handle.get_joint_position()\n",
    "        jawAngle = 0.5 * (pos6d + pos6s)/0.4106\n",
    "        return jawAngle\n",
    "    \n",
    "    def getJointAngles(self):\n",
    "        pos1  = self.j1_handle.get_joint_position()\n",
    "        pos2  = self.j2_handle.get_joint_position()\n",
    "        pos3  = self.j3_handle.get_joint_position()\n",
    "        pos4  = self.j4_handle.get_joint_position()\n",
    "        pos5  = self.j5_handle.get_joint_position()\n",
    "        pos6s = self.j6s_handle.get_joint_position()\n",
    "        pos6d = self.j6d_handle.get_joint_position()\n",
    "\n",
    "        pos6     = 0.5*(pos6d - pos6s)\n",
    "        jawAngle = 0.5*(pos6d + pos6s)/0.4106\n",
    "\n",
    "        jointAngles = np.array([pos1, pos2, pos3, pos4, pos5, pos6])\n",
    "\n",
    "        return jointAngles, jawAngle\n",
    "    \n",
    "    def getJointVelocities(self):\n",
    "        vel1  = self.j1_handle.get_joint_velocity()\n",
    "        vel2  = self.j2_handle.get_joint_velocity()\n",
    "        vel3  = self.j3_handle.get_joint_velocity()\n",
    "        vel4  = self.j4_handle.get_joint_velocity()\n",
    "        vel5  = self.j5_handle.get_joint_velocity()\n",
    "        vel6s = self.j6s_handle.get_joint_velocity()\n",
    "        vel6d = self.j6d_handle.get_joint_velocity()\n",
    "\n",
    "        vel6   = 0.5*(vel6s - vel6d)\n",
    "        jawVel = 0.5*(vel6s + vel6d)/0.4106\n",
    "\n",
    "        jointVelocities = np.array([vel1, vel2, vel3, vel4, vel5, vel6])\n",
    "\n",
    "        return jointVelocities, jawVel\n",
    "    \n",
    "    def setJointAngles(self, jointAngles, jawAngle):\n",
    "\n",
    "        self.j1_handle.set_joint_position(jointAngles[0])\n",
    "        self.j2_handle.set_joint_position(jointAngles[1])\n",
    "        self.j3_handle.set_joint_position(jointAngles[2])\n",
    "        self.j4_handle.set_joint_position(jointAngles[3])\n",
    "        self.j5_handle.set_joint_position(jointAngles[4])\n",
    "\n",
    "        pos6s = 0.4106*jawAngle - jointAngles[5]\n",
    "        pos6d = 0.4106*jawAngle + jointAngles[5]\n",
    "\n",
    "        self.j6s_handle.set_joint_position(pos6s)\n",
    "        self.j6d_handle.set_joint_position(pos6d)\n",
    "    \n",
    "    def getPoseAtJoint(self, j):\n",
    "        if j == 0:\n",
    "            pose = self.base_handle.get_pose()\n",
    "            pos, quat = pose[0:3], pose[3:]\n",
    "        elif j == 1:\n",
    "            pose = self.j2_handle.get_pose(relative_to = self.base_handle)\n",
    "            pos, quat = pose[0:3], pose[3:]\n",
    "            T = self.posquat2Matrix(pos,quat)\n",
    "            rot90x = [[1, 0,  0, 0], \n",
    "                      [0, 0, -1, 0], \n",
    "\t\t\t\t\t  [0, 1,  0, 0],\n",
    "\t\t\t\t\t  [0, 0,  0, 1]]\n",
    "            pos, quat = self.matrix2posquat(np.dot(T, rot90x))\n",
    "        elif j == 2:\n",
    "            pose = self.j3_handle.get_pose(relative_to = self.base_handle)\n",
    "            pos, quat = pose[0:3], pose[3:]\n",
    "            T = self.posquat2Matrix(pos,quat)\n",
    "            rot    = [[0,  0,  1, 0], \n",
    "\t\t\t\t\t  [-1, 0,  0, 0], \n",
    "\t\t\t\t\t  [0, -1,  0, 0],\n",
    "\t\t\t\t\t  [0,  0,  0, 1]]\n",
    "            pos, quat = self.matrix2posquat(np.dot(T, rot))\n",
    "        elif j == 3:\n",
    "            pose = self.j4_handle.get_pose(relative_to = self.base_handle)\n",
    "            pos, quat = pose[0:3], pose[3:]\n",
    "            T = self.posquat2Matrix(pos,quat)\n",
    "            rot    = [[-1, 0,  0, 0,], \n",
    "\t\t\t\t\t  [0, -1,  0, 0], \n",
    "\t\t\t\t\t  [0,  0,  1, 0],\n",
    "\t\t\t\t\t  [0,  0,  0, 1]]\n",
    "            pos, quat = self.matrix2posquat(np.dot(T, rot))\n",
    "        elif j == 4:\n",
    "            pose = self.j5_handle.get_pose(relative_to = self.base_handle)\n",
    "            pos, quat = pose[0:3], pose[3:]\n",
    "            T = self.posquat2Matrix(pos,quat)\n",
    "            rot    = [[0, 0, -1, 0], \n",
    "\t\t\t\t\t  [1, 0,  0, 0], \n",
    "\t\t\t\t\t  [0,-1,  0, 0],\n",
    "\t\t\t\t\t  [0, 0,  0, 1]]\n",
    "            pos, quat = self.matrix2posquat(np.dot(T, rot))\n",
    "        elif j == 5:\n",
    "            pose = self.j5_dummy_handle.get_pose(relative_to = self.base_handle)\n",
    "            pos, quat = pose[0:3], pose[3:]\n",
    "        else:\n",
    "            pose = self.EE_virtual_handle.get_pose(relative_to = self.base_handle)\n",
    "            pos, quat = pose[0:3], pose[3:]\n",
    "            if j != 6:\n",
    "                T = self.posquat2Matrix(pos,quat)\n",
    "\n",
    "                ct = np.cos(0)\n",
    "                st = np.sin(0)\n",
    "\n",
    "                ca = np.cos(-np.pi/2.0)\n",
    "                sa = np.sin(-np.pi/2.0)\n",
    "\n",
    "                T_x = np.array([[1,  0,  0, 0],\n",
    "\t\t\t\t               [0, ca, -sa, 0 ],\n",
    "\t\t\t\t               [0, sa,  ca, 0 ],\n",
    "\t\t\t\t               [0, 0, 0,    1 ]])\n",
    "                T_z = np.array([[ct, -st, 0, 0],\n",
    "\t\t\t\t                [st,  ct, 0, 0],\n",
    "\t\t\t\t                [0,    0, 1, 0.0102],\n",
    "\t\t\t\t                [0,    0, 0, 1]])\n",
    "                T = np.dot(np.dot(T,T_x), T_z)\n",
    "\n",
    "                pos, quat = self.matrix2posquat(T)\n",
    "\n",
    "        return np.array(pos), np.array(quat)\n",
    "    \n",
    "    def getPoseAtEE(self):\n",
    "        return self.getPoseAtJoint(6)\n",
    "    \n",
    "    #def getVelocityAtEE(self):\n",
    "     #   return self.EE_virtual_handle.get_velocity()\n",
    "    \n",
    "    def setPoseAtEE(self, pos, quat, jawAngle):\n",
    "        theta = 0.4106*jawAngle\n",
    "\n",
    "        b_T_ee = self.posquat2Matrix(pos, quat)\n",
    "\n",
    "        ee_T_sx = np.array([[ 9.99191168e-01,  4.02120491e-02, -5.31786338e-06,4.17232513e-07],\n",
    "\t\t\t\t       [-4.01793160e-02,  9.98383134e-01,  4.02087139e-02, -1.16467476e-04],\n",
    "\t\t\t\t       [ 1.62218404e-03, -4.01759782e-02,  9.99191303e-01, -3.61323357e-04],\n",
    "\t\t\t\t       [ 0.00000000e+00,  0.00000000e+00,  0.00000000e+00,1.00000000e+00]])\n",
    "\n",
    "        ee_T_dx = np.array([[-9.99191251e-01, -4.02099858e-02, -1.98098369e-06, 4.17232513e-07],\n",
    "\t\t\t\t       [-4.01773877e-02,  9.98383193e-01, -4.02091818e-02, -1.16467476e-04],\n",
    "\t\t\t\t       [ 1.61878841e-03, -4.01765831e-02, -9.99191284e-01, -3.61323357e-04],\n",
    "\t\t\t\t       [ 0.00000000e+00,  0.00000000e+00,  0.00000000e+00,  1.00000000e+00]])\n",
    "\n",
    "        b_T_sx = np.dot(b_T_ee, ee_T_sx)\n",
    "        b_T_dx = np.dot(b_T_ee, ee_T_dx)\n",
    "\n",
    "        ct = np.cos(theta)\n",
    "        st = np.sin(theta)\n",
    "\n",
    "        x_T_ts = np.array([[ct, -st, 0,  -st*0.009,],\n",
    "\t\t\t\t\t\t [st,    ct, 0,   ct*0.009],\n",
    "\t\t\t\t\t\t [0 ,   0, 1, 0,],\n",
    "\t\t\t\t\t\t [0,    0, 0, 1]])\n",
    "\n",
    "        pos_sx, quat_sx = self.matrix2posquat(np.dot(b_T_sx, x_T_ts))\n",
    "        pos_dx, quat_dx = self.matrix2posquat(np.dot(b_T_dx, x_T_ts))\n",
    "\n",
    "        self.ik_target_dx_dummy_handle.set_pose(np.r_[pos_dx, quat_dx], relative_to = self.base_handle)\n",
    "        self.ik_target_sx_dummy_handle.set_pose(np.r_[pos_sx, quat_sx], relative_to = self.base_handle)\n",
    "\n",
    "    \n",
    "    \"\"\"def stopSim(self):\n",
    "        self.pr.stop()\n",
    "        self.pr.shutdown()\"\"\"    "
   ]
  },
  {
   "cell_type": "code",
   "execution_count": 3,
   "metadata": {},
   "outputs": [],
   "source": [
    "psm = ArmPSM('/home/arclab-flo/Desktop/Bose/CoppeliaSim_Edu_V4_0_0_Ubuntu18_04/scenes/dVRK-oneArm-reach.ttt')"
   ]
  },
  {
   "cell_type": "code",
   "execution_count": 4,
   "metadata": {},
   "outputs": [
    {
     "data": {
      "text/plain": [
       "0.000579221796968392"
      ]
     },
     "execution_count": 4,
     "metadata": {},
     "output_type": "execute_result"
    }
   ],
   "source": [
    "psm.getJawAngle()"
   ]
  },
  {
   "cell_type": "code",
   "execution_count": 5,
   "metadata": {},
   "outputs": [
    {
     "data": {
      "text/plain": [
       "(array([ 3.37473210e-03,  5.08744124e-05,  5.75865731e-02, -3.88338149e-01,\n",
       "         4.04887423e-02,  1.33045518e-03]), 0.000579221796968392)"
      ]
     },
     "execution_count": 5,
     "metadata": {},
     "output_type": "execute_result"
    }
   ],
   "source": [
    "psm.getJointAngles()"
   ]
  },
  {
   "cell_type": "code",
   "execution_count": 6,
   "metadata": {},
   "outputs": [
    {
     "data": {
      "text/plain": [
       "(array([ 3.37473214e-01,  5.08744130e-03,  5.75865746e+00, -3.88338165e+01,\n",
       "         4.04887438e+00, -1.39701881e-01]), -0.057067582361069874)"
      ]
     },
     "execution_count": 6,
     "metadata": {},
     "output_type": "execute_result"
    }
   ],
   "source": [
    "psm.getJointVelocities()"
   ]
  },
  {
   "cell_type": "code",
   "execution_count": 10,
   "metadata": {},
   "outputs": [],
   "source": [
    "psm.stopSim()"
   ]
  },
  {
   "cell_type": "code",
   "execution_count": null,
   "metadata": {},
   "outputs": [],
   "source": []
  }
 ],
 "metadata": {
  "kernelspec": {
   "display_name": "Python 3",
   "language": "python",
   "name": "python3"
  },
  "language_info": {
   "codemirror_mode": {
    "name": "ipython",
    "version": 3
   },
   "file_extension": ".py",
   "mimetype": "text/x-python",
   "name": "python",
   "nbconvert_exporter": "python",
   "pygments_lexer": "ipython3",
   "version": "3.7.4"
  }
 },
 "nbformat": 4,
 "nbformat_minor": 2
}
